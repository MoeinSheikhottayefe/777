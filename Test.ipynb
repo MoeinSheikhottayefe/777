{
  "nbformat": 4,
  "nbformat_minor": 0,
  "metadata": {
    "colab": {
      "provenance": [],
      "authorship_tag": "ABX9TyNDvOz1qFOGtsjZa46FYXkJ",
      "include_colab_link": true
    },
    "kernelspec": {
      "name": "python3",
      "display_name": "Python 3"
    },
    "language_info": {
      "name": "python"
    }
  },
  "cells": [
    {
      "cell_type": "markdown",
      "metadata": {
        "id": "view-in-github",
        "colab_type": "text"
      },
      "source": [
        "<a href=\"https://colab.research.google.com/github/MoeinSheikhottayefe/777/blob/main/Test.ipynb\" target=\"_parent\"><img src=\"https://colab.research.google.com/assets/colab-badge.svg\" alt=\"Open In Colab\"/></a>"
      ]
    },
    {
      "cell_type": "code",
      "execution_count": 2,
      "metadata": {
        "id": "LM0EjTt2M4uo"
      },
      "outputs": [],
      "source": [
        "import torch\n",
        "import torch.nn as nn\n",
        "\n",
        "import torch.nn.functional as F\n",
        "\n",
        "\n"
      ]
    },
    {
      "cell_type": "code",
      "source": [
        "x = torch.tensor([[1., 2., 0., 4., 1.],\n",
        "                  [0., 1., 1., 1., 1.],\n",
        "                  [2., 3., 0., 1., 4.]])\n",
        "\n",
        "w = torch.tensor([1., 0.5, 1., -1., -0.5])\n",
        "\n",
        "b = torch.tensor(1.)"
      ],
      "metadata": {
        "id": "MRwXdg1iNT3Z"
      },
      "execution_count": 5,
      "outputs": []
    },
    {
      "cell_type": "code",
      "source": [
        "def Linear(x):\n",
        "  return x"
      ],
      "metadata": {
        "id": "rpnZdaJeOUot"
      },
      "execution_count": 6,
      "outputs": []
    },
    {
      "cell_type": "code",
      "source": [
        "class Neurons:\n",
        "  def __init__(self,n,af):\n",
        "    self.w = torch.randn(n)\n",
        "    self.b = torch.randn(1)\n",
        "    self.af = af\n",
        "  def __call__(self,x):\n",
        "    return self.af(self.w@x + self.b)"
      ],
      "metadata": {
        "id": "u2aNqHApNYkZ"
      },
      "execution_count": 7,
      "outputs": []
    },
    {
      "cell_type": "code",
      "source": [
        "n = Neurons(5 , Linear)"
      ],
      "metadata": {
        "id": "080GA56dOifD"
      },
      "execution_count": 8,
      "outputs": []
    },
    {
      "cell_type": "code",
      "source": [
        "n(x[0])"
      ],
      "metadata": {
        "colab": {
          "base_uri": "https://localhost:8080/"
        },
        "id": "4-RaAVuyO48N",
        "outputId": "8319e111-f312-46e6-fdd9-07ad5930eac1"
      },
      "execution_count": 9,
      "outputs": [
        {
          "output_type": "execute_result",
          "data": {
            "text/plain": [
              "tensor([10.2987])"
            ]
          },
          "metadata": {},
          "execution_count": 9
        }
      ]
    }
  ]
}